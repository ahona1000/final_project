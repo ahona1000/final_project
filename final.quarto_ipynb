{
  "cells": [
    {
      "cell_type": "markdown",
      "metadata": {},
      "source": [
        "---\n",
        "title: \"Untitled\"\n",
        "format: html\n",
        "---"
      ],
      "id": "8cc11379"
    },
    {
      "cell_type": "code",
      "metadata": {},
      "source": [
        "#setup\n",
        "import pandas as pd\n",
        "import altair as alt\n",
        "import time\n",
        "import requests\n",
        "import lxml\n",
        "from bs4 import BeautifulSoup\n",
        "from urllib.parse import urljoin\n",
        "from datetime import datetime\n",
        "\n",
        "import warnings \n",
        "warnings.filterwarnings('ignore')\n",
        "alt.renderers.enable(\"png\")"
      ],
      "id": "a29c36be",
      "execution_count": null,
      "outputs": []
    },
    {
      "cell_type": "code",
      "metadata": {},
      "source": [
        "gender_3 =pd.read_csv('/Users/ahonaroy/Documents/GitHub/archive (2)/Employee_Salary_Dataset.csv')\n",
        "\n",
        "print(gender_3.head())"
      ],
      "id": "076f8cd0",
      "execution_count": null,
      "outputs": []
    },
    {
      "cell_type": "code",
      "metadata": {},
      "source": [
        "import pandas as pd\n",
        "\n",
        "#importing first dataset\n",
        "gender_1 = pd.read_csv('/Users/ahonaroy/Documents/GitHub/Glassdoor Gender Pay Gap.csv')\n",
        "\n",
        "print(gender_1.head())"
      ],
      "id": "0227d053",
      "execution_count": null,
      "outputs": []
    },
    {
      "cell_type": "markdown",
      "metadata": {},
      "source": [
        "## Data cleaning"
      ],
      "id": "04dfd549"
    },
    {
      "cell_type": "code",
      "metadata": {},
      "source": [
        "#checking for na values\n",
        "gender_1.isnull().sum()"
      ],
      "id": "81d99345",
      "execution_count": null,
      "outputs": []
    },
    {
      "cell_type": "code",
      "metadata": {},
      "source": [
        "gender_3.isnull().sum()"
      ],
      "id": "072e8bf3",
      "execution_count": null,
      "outputs": []
    },
    {
      "cell_type": "code",
      "metadata": {},
      "source": [
        "gender_1 = gender_1[(gender_1['Age'] >= 18) & (gender_1['BasePay'] > 0) & (gender_1['PerfEval'] >= 1)]"
      ],
      "id": "6a5304bc",
      "execution_count": null,
      "outputs": []
    },
    {
      "cell_type": "code",
      "metadata": {},
      "source": [
        "gender_1.describe()"
      ],
      "id": "a70bc889",
      "execution_count": null,
      "outputs": []
    },
    {
      "cell_type": "code",
      "metadata": {},
      "source": [
        "gender_1.info()"
      ],
      "id": "b02eefc2",
      "execution_count": null,
      "outputs": []
    },
    {
      "cell_type": "code",
      "metadata": {},
      "source": [
        "gender_1.drop_duplicates(inplace=True)"
      ],
      "id": "049e64ff",
      "execution_count": null,
      "outputs": []
    },
    {
      "cell_type": "markdown",
      "metadata": {},
      "source": [
        "#Renaming columns"
      ],
      "id": "0f3cf28c"
    },
    {
      "cell_type": "code",
      "metadata": {},
      "source": [
        "gender_1.rename(columns={'JobTitle': 'Job_Title', 'BasePay': 'Base_Pay', 'PerfEval': 'Performance_Eval'}, inplace=True)"
      ],
      "id": "43f79ffa",
      "execution_count": null,
      "outputs": []
    },
    {
      "cell_type": "markdown",
      "metadata": {},
      "source": [
        "#Creating total compensation column"
      ],
      "id": "357e6e4b"
    },
    {
      "cell_type": "code",
      "metadata": {},
      "source": [
        "gender_1['Total_Compensation'] = gender_1['Base_Pay'] + gender_1['Bonus']"
      ],
      "id": "ef2d3ceb",
      "execution_count": null,
      "outputs": []
    },
    {
      "cell_type": "markdown",
      "metadata": {},
      "source": [
        "#Sorting based on seniority level"
      ],
      "id": "5568b2f5"
    },
    {
      "cell_type": "code",
      "metadata": {},
      "source": [
        "def experience_level(seniority):\n",
        "    if seniority <= 2:\n",
        "        return 'Junior'\n",
        "    elif seniority <= 4:\n",
        "        return 'Mid-Level'\n",
        "    else:\n",
        "        return 'Senior'\n",
        "\n",
        "gender_1['Experience_Level'] = gender_1['Seniority'].apply(experience_level)"
      ],
      "id": "18fe539f",
      "execution_count": null,
      "outputs": []
    },
    {
      "cell_type": "markdown",
      "metadata": {},
      "source": [
        "#Clean up dataset gender_3"
      ],
      "id": "a5ff7cbb"
    },
    {
      "cell_type": "code",
      "metadata": {},
      "source": [
        "#Drop duplicates\n",
        "gender_3 = gender_3.drop_duplicates()"
      ],
      "id": "d796fc45",
      "execution_count": null,
      "outputs": []
    },
    {
      "cell_type": "code",
      "metadata": {},
      "source": [
        "#Filtering age as above or equal to 18, salary above 0(positive values) and experience years not above 18 \n",
        "gender_3 = gender_3[(gender_3['Age'] >= 18) & (gender_3['Age'] <= 65) & (gender_3['Salary'] > 0) & \n",
        "            (gender_3['Experience_Years'] <= (gender_3['Age'] - 18))]"
      ],
      "id": "4d735292",
      "execution_count": null,
      "outputs": []
    },
    {
      "cell_type": "code",
      "metadata": {},
      "source": [
        "#Making sure to drop NA values\n",
        "gender_3 = gender_3.dropna() "
      ],
      "id": "e5807dd4",
      "execution_count": null,
      "outputs": []
    },
    {
      "cell_type": "markdown",
      "metadata": {},
      "source": [
        "## Data visualization\n",
        "\n",
        "1.Bar Chart: Average Salary by Gender"
      ],
      "id": "e8f75d9d"
    },
    {
      "cell_type": "code",
      "metadata": {},
      "source": [
        "import altair as alt\n",
        "import pandas as pd\n",
        "import os\n",
        "\n",
        "# Aggregate average salary by gender\n",
        "salary_by_gender = gender_3.groupby('Gender', as_index=False)['Salary'].mean()\n",
        "\n",
        "# Create bar chart\n",
        "bar_chart = alt.Chart(salary_by_gender).mark_bar().encode(\n",
        "    x=alt.X('Gender', title='Gender'),\n",
        "    y=alt.Y('Salary', title='Average Salary', scale=alt.Scale(domain=[0, salary_by_gender['Salary'].max() + 5000])),\n",
        "    color=alt.Color('Gender', scale=alt.Scale(domain=['Male', 'Female'], range=['blue', 'pink']))\n",
        ").properties(\n",
        "    title='Average Salary by Gender',\n",
        "    width=400,\n",
        "    height=300\n",
        ")\n",
        "\n",
        "# Display the chart\n",
        "bar_chart"
      ],
      "id": "39cca8d3",
      "execution_count": null,
      "outputs": []
    },
    {
      "cell_type": "markdown",
      "metadata": {},
      "source": [
        "2.Scatter Plot: Experience vs. Salary"
      ],
      "id": "e889cb46"
    },
    {
      "cell_type": "code",
      "metadata": {},
      "source": [
        "import altair as alt\n",
        "import altair_viewer\n",
        "\n",
        "# Scatter plot of Experience_Years vs. Salary, color by Gender\n",
        "scatter_plot = alt.Chart(gender_3).mark_circle(size=100).encode(\n",
        "    x=alt.X('Experience_Years', title='Years of Experience'),\n",
        "    y=alt.Y('Salary', title='Salary'),\n",
        "    color=alt.Color('Gender', scale=alt.Scale(domain=['Male', 'Female'], range=['blue', 'pink'])),\n",
        "    tooltip=['Gender', 'Experience_Years', 'Salary']\n",
        ").properties(\n",
        "    title='Experience vs. Salary by Gender'\n",
        ")\n",
        "\n",
        "scatter_plot"
      ],
      "id": "99eb6255",
      "execution_count": null,
      "outputs": []
    },
    {
      "cell_type": "markdown",
      "metadata": {},
      "source": [
        "3.Geopandas Map Visualization"
      ],
      "id": "9d83c99b"
    },
    {
      "cell_type": "code",
      "metadata": {},
      "source": [
        "import geopandas as gpd\n",
        "import matplotlib.pyplot as plt\n",
        "\n",
        "# Example: Map of average salary by state\n",
        "gdf = gpd.read_file(gpd.datasets.get_path('naturalearth_lowres'))  # Example GeoJSON\n",
        "state_data = pd.DataFrame({\n",
        "    'state': ['California', 'Texas', 'New York'],\n",
        "    'avg_salary': [100000, 75000, 85000]\n",
        "})\n",
        "state_gdf = gdf.merge(state_data, left_on='name', right_on='state', how='left')\n",
        "\n",
        "# Plot the map\n",
        "fig, ax = plt.subplots(1, 1, figsize=(10, 8))\n",
        "state_gdf.plot(column='avg_salary', ax=ax, legend=True, cmap='coolwarm')\n",
        "plt.title('Average Salary by State')\n",
        "plt.show()"
      ],
      "id": "1e625d83",
      "execution_count": null,
      "outputs": []
    },
    {
      "cell_type": "markdown",
      "metadata": {},
      "source": [
        "# Dataset 1 data visualization"
      ],
      "id": "b78f28bb"
    },
    {
      "cell_type": "code",
      "metadata": {},
      "source": [
        "import pandas as pd\n",
        "\n",
        "#importing first dataset\n",
        "gender_1 = pd.read_csv('/Users/ahonaroy/Documents/GitHub/Glassdoor Gender Pay Gap.csv')\n",
        "\n",
        "print(gender_1.head())"
      ],
      "id": "cb6a9bed",
      "execution_count": null,
      "outputs": []
    },
    {
      "cell_type": "markdown",
      "metadata": {},
      "source": [
        "# Heatmap"
      ],
      "id": "d10fc03b"
    },
    {
      "cell_type": "code",
      "metadata": {},
      "source": [
        "import pandas as pd\n",
        "import seaborn as sns\n",
        "import matplotlib.pyplot as plt\n",
        "\n",
        "# Assuming gender_1 is already loaded\n",
        "# Select numerical columns for the heatmap\n",
        "numerical_cols = ['Age', 'BasePay', 'Bonus', 'PerfEval', 'Seniority']\n",
        "data = gender_1[numerical_cols]\n",
        "\n",
        "# Calculate the correlation matrix\n",
        "corr_matrix = data.corr()\n",
        "\n",
        "# Create the heatmap\n",
        "plt.figure(figsize=(8, 6))\n",
        "sns.heatmap(corr_matrix, annot=True, cmap=\"coolwarm\", fmt=\".2f\", linewidths=0.5)\n",
        "plt.title(\"Correlation Heatmap of Numerical Features\")\n",
        "plt.show()"
      ],
      "id": "e835b1d6",
      "execution_count": null,
      "outputs": []
    },
    {
      "cell_type": "code",
      "metadata": {},
      "source": [
        "import matplotlib.pyplot as plt\n",
        "import pandas as pd\n",
        "\n",
        "# Assuming 'gender_1' is already loaded as a DataFrame\n",
        "# Create a grouped DataFrame by Gender and Performance Evaluation\n",
        "perf_eval_gender = gender_1.groupby(['PerfEval', 'Gender']).size().unstack(fill_value=0)\n",
        "\n",
        "# Plot the stacked bar chart\n",
        "perf_eval_gender.plot(kind='bar', stacked=True, color=['pink', 'blue'])\n",
        "\n",
        "# Customize the plot\n",
        "plt.title(\"Performance Evaluation Scores by Gender\")\n",
        "plt.xlabel(\"Performance Evaluation\")\n",
        "plt.ylabel(\"Count\")\n",
        "plt.xticks(rotation=0)\n",
        "plt.legend(title=\"Gender\")\n",
        "plt.tight_layout()\n",
        "\n",
        "# Show the plot\n",
        "plt.show()"
      ],
      "id": "54553645",
      "execution_count": null,
      "outputs": []
    }
  ],
  "metadata": {
    "kernelspec": {
      "name": "python3",
      "language": "python",
      "display_name": "Python 3 (ipykernel)",
      "path": "/opt/anaconda3/share/jupyter/kernels/python3"
    }
  },
  "nbformat": 4,
  "nbformat_minor": 5
}